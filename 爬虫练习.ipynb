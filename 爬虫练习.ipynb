{
 "cells": [
  {
   "cell_type": "code",
   "execution_count": 171,
   "metadata": {},
   "outputs": [],
   "source": [
    "import requests as req\n",
    "import time"
   ]
  },
  {
   "cell_type": "code",
   "execution_count": 4,
   "metadata": {
    "collapsed": true
   },
   "outputs": [],
   "source": [
    "result = req.get('http://www.qq.com/')"
   ]
  },
  {
   "cell_type": "code",
   "execution_count": 6,
   "metadata": {},
   "outputs": [
    {
     "data": {
      "text/plain": [
       "200"
      ]
     },
     "execution_count": 6,
     "metadata": {},
     "output_type": "execute_result"
    }
   ],
   "source": [
    "result.status_code"
   ]
  },
  {
   "cell_type": "code",
   "execution_count": 7,
   "metadata": {},
   "outputs": [
    {
     "data": {
      "text/plain": [
       "'GB2312'"
      ]
     },
     "execution_count": 7,
     "metadata": {},
     "output_type": "execute_result"
    }
   ],
   "source": [
    "result.encoding"
   ]
  },
  {
   "cell_type": "code",
   "execution_count": 9,
   "metadata": {},
   "outputs": [
    {
     "data": {
      "text/plain": [
       "b'<!DOCTYPE html>\\n<html lang=\"zh-CN\">\\n<head>\\n<meta content=\"text/html; charset=gb2312\" http-equiv=\"Content-Type\">\\n<meta http-equiv=\"X-UA-Compatible\" content=\"IE=edge\">\\n<meta name=\"baidu-site-verification\" content=\"cNitg6enc2\">\\n<title>\\xcc\\xda\\xd1\\xb6\\xca\\xd7\\xd2\\xb3</title>\\n\\n<!-- \\xd2\\xc6\\xb6\\xaf\\xca\\xca\\xc5\\xe4JS\\xbd\\xc5\\xb1\\xbe -->\\n<script type=\"text/javascript\">\\r\\n    if (window.location.toString().indexOf(\\'pref=padindex\\') != -1) {\\r\\n    } else {\\r\\n        if (/AppleWebKit.*Mobile/i.test(navigator.userAgent) || /\\\\(Android.*Mobile.+\\\\).+Gecko.+Firefox/i.test(navigator.userAgent) || (/MIDP|SymbianOS|NOKIA|SAMSUNG|LG|NEC|TCL|Alcatel|BIRD|DBTEL|Dopod|PHILIPS|HAIER|LENOVO|MOT-|Nokia|SonyEricsson|SIE-|Amoi|ZTE/.test(navigator.userAgent))) {\\r\\n            if (window.location.href.indexOf(\"?mobile\")<0){\\r\\n                try {\\r\\n                    if (/Android|Windows Phone|webOS|iPhone|iPod|BlackBerry/i.test(navigator.userAgent)) {\\r\\n                        window.location.href=\"https://xw.qq.com?f=qqcom\";\\r\\n                    } else if (/iPad/i.test(naviga'"
      ]
     },
     "execution_count": 9,
     "metadata": {},
     "output_type": "execute_result"
    }
   ],
   "source": [
    "result.content[:1000]"
   ]
  },
  {
   "cell_type": "code",
   "execution_count": 10,
   "metadata": {
    "collapsed": true
   },
   "outputs": [],
   "source": [
    "from lxml import etree"
   ]
  },
  {
   "cell_type": "code",
   "execution_count": 12,
   "metadata": {},
   "outputs": [],
   "source": [
    "selector = etree.HTML(result.content)"
   ]
  },
  {
   "cell_type": "code",
   "execution_count": 17,
   "metadata": {
    "collapsed": true
   },
   "outputs": [],
   "source": [
    "sector = selector.xpath('//div[@class=\"hd\"]/h2/a[@href]/text()')"
   ]
  },
  {
   "cell_type": "code",
   "execution_count": 19,
   "metadata": {},
   "outputs": [
    {
     "data": {
      "text/plain": [
       "['要闻',\n",
       " '今日图话',\n",
       " '快报',\n",
       " '市场行情',\n",
       " '星座运势',\n",
       " '财经',\n",
       " '证券',\n",
       " '理财',\n",
       " '汽车',\n",
       " '在线购车',\n",
       " '体育',\n",
       " 'NBA',\n",
       " '英超',\n",
       " '搏击',\n",
       " '房产',\n",
       " '腾讯看房']"
      ]
     },
     "execution_count": 19,
     "metadata": {},
     "output_type": "execute_result"
    }
   ],
   "source": [
    "sector"
   ]
  },
  {
   "cell_type": "code",
   "execution_count": 21,
   "metadata": {},
   "outputs": [],
   "source": [
    "title = selector.xpath('//li/a[@class = \"\"]/text()')"
   ]
  },
  {
   "cell_type": "code",
   "execution_count": 24,
   "metadata": {},
   "outputs": [
    {
     "data": {
      "text/plain": [
       "['美元持续升值，香港金管局时隔三月再出手托港元', '新华社调查在线短租房：有些房源照片是“照骗”']"
      ]
     },
     "execution_count": 24,
     "metadata": {},
     "output_type": "execute_result"
    }
   ],
   "source": [
    "title"
   ]
  },
  {
   "cell_type": "code",
   "execution_count": 34,
   "metadata": {
    "collapsed": true
   },
   "outputs": [],
   "source": [
    "douban = req.get('https://movie.douban.com/chart')"
   ]
  },
  {
   "cell_type": "code",
   "execution_count": 37,
   "metadata": {},
   "outputs": [
    {
     "data": {
      "text/plain": [
       "200"
      ]
     },
     "execution_count": 37,
     "metadata": {},
     "output_type": "execute_result"
    }
   ],
   "source": [
    "douban.status_code\n",
    "#douban.encoding"
   ]
  },
  {
   "cell_type": "code",
   "execution_count": 38,
   "metadata": {
    "collapsed": true
   },
   "outputs": [],
   "source": [
    "new = etree.HTML(douban.content)"
   ]
  },
  {
   "cell_type": "code",
   "execution_count": 161,
   "metadata": {},
   "outputs": [],
   "source": [
    "locname = new.xpath('//div[@class=\"pl2\"]/a/text()')\n",
    "forname = new.xpath('//div[@class=\"pl2\"]/a/span/text()')\n",
    "score = new.xpath('//div[@class=\"star clearfix\"]/span[@class=\"rating_nums\"]/text()')\n",
    "intro = new.xpath('//div[@class=\"pl2\"]/p[@class=\"pl\"]/text()')\n",
    "locname_new = []\n",
    "import re\n",
    "for i in locname:\n",
    "    i = re.findall(r'\\w*\\n',i)[-1].strip('\\n')\n",
    "    locname_new.append(i)\n",
    "locname = locname_new[::2]"
   ]
  },
  {
   "cell_type": "code",
   "execution_count": 162,
   "metadata": {},
   "outputs": [
    {
     "data": {
      "text/plain": [
       "'2018-05-16(戛纳电影节) / 2018-05-17(韩国) / 刘亚仁 / 史蒂文·元 / 全钟瑞 / 金秀京 / 崔承浩 / 玉子妍 / 韩国 / 李沧东 / 148分钟 / 燃烧 / 剧情 / 悬疑 / 李沧东 Chang-dong Lee / Jungmi Oh / 村上春树 Haruki Murakami / 韩语'"
      ]
     },
     "execution_count": 162,
     "metadata": {},
     "output_type": "execute_result"
    }
   ],
   "source": [
    "intro[1]"
   ]
  },
  {
   "cell_type": "code",
   "execution_count": 151,
   "metadata": {},
   "outputs": [
    {
     "data": {
      "text/plain": [
       "['2018-05-16(戛纳电影节)', '2018-05-17(韩国)']"
      ]
     },
     "execution_count": 151,
     "metadata": {},
     "output_type": "execute_result"
    }
   ],
   "source": [
    "i = re.compile(r'\\d*-\\d*-\\d*\\W?\\w*\\W?')\n",
    "for i in \n",
    "i.findall(intro[1])"
   ]
  },
  {
   "cell_type": "code",
   "execution_count": 163,
   "metadata": {},
   "outputs": [
    {
     "data": {
      "text/plain": [
       "'2018-05-16(戛纳电影节) / 2018-05-17(韩国) / 刘亚仁 / 史蒂文·元 / 全钟瑞 / 金秀京 / 崔承浩 / 玉子妍 / 韩国 / 李沧东 / 148分钟 / 燃烧 / 剧情 / 悬疑 / 李沧东 Chang-dong Lee / Jungmi Oh / 村上春树 Haruki Murakami / 韩语'"
      ]
     },
     "execution_count": 163,
     "metadata": {},
     "output_type": "execute_result"
    }
   ],
   "source": [
    "import pandas as pd\n",
    "import numpy as np\n",
    "intro = pd.Series(intro)\n",
    "type(intro)\n",
    "intro[1]"
   ]
  },
  {
   "cell_type": "code",
   "execution_count": 165,
   "metadata": {},
   "outputs": [
    {
     "ename": "TypeError",
     "evalue": "expected string or bytes-like object",
     "output_type": "error",
     "traceback": [
      "\u001b[1;31m---------------------------------------------------------------------------\u001b[0m",
      "\u001b[1;31mTypeError\u001b[0m                                 Traceback (most recent call last)",
      "\u001b[1;32m<ipython-input-165-09e463a48f42>\u001b[0m in \u001b[0;36m<module>\u001b[1;34m()\u001b[0m\n\u001b[0;32m      1\u001b[0m \u001b[0mi\u001b[0m \u001b[1;33m=\u001b[0m \u001b[0mre\u001b[0m\u001b[1;33m.\u001b[0m\u001b[0mcompile\u001b[0m\u001b[1;33m(\u001b[0m\u001b[1;34mr'\\d*-\\d*-\\d*\\W?\\w*\\W?'\u001b[0m\u001b[1;33m)\u001b[0m\u001b[1;33m\u001b[0m\u001b[0m\n\u001b[1;32m----> 2\u001b[1;33m \u001b[0mi\u001b[0m\u001b[1;33m.\u001b[0m\u001b[0mfindall\u001b[0m\u001b[1;33m(\u001b[0m\u001b[0mintro\u001b[0m\u001b[1;33m[\u001b[0m\u001b[1;36m1\u001b[0m\u001b[1;33m]\u001b[0m\u001b[1;33m)\u001b[0m\u001b[1;33m\u001b[0m\u001b[0m\n\u001b[0m\u001b[0;32m      3\u001b[0m \u001b[0mintro\u001b[0m \u001b[1;33m=\u001b[0m \u001b[0mintro\u001b[0m\u001b[1;33m.\u001b[0m\u001b[0mapply\u001b[0m\u001b[1;33m(\u001b[0m\u001b[1;32mlambda\u001b[0m \u001b[0mx\u001b[0m\u001b[1;33m:\u001b[0m \u001b[0mi\u001b[0m\u001b[1;33m.\u001b[0m\u001b[0mfindall\u001b[0m\u001b[1;33m(\u001b[0m\u001b[0mx\u001b[0m\u001b[1;33m)\u001b[0m\u001b[1;33m)\u001b[0m\u001b[1;33m\u001b[0m\u001b[0m\n\u001b[0;32m      4\u001b[0m \u001b[0mlist\u001b[0m\u001b[1;33m(\u001b[0m\u001b[0mintro\u001b[0m\u001b[1;33m)\u001b[0m\u001b[1;33m\u001b[0m\u001b[0m\n",
      "\u001b[1;31mTypeError\u001b[0m: expected string or bytes-like object"
     ]
    }
   ],
   "source": [
    "i = re.compile(r'\\d*-\\d*-\\d*\\W?\\w*\\W?')\n",
    "i.findall(intro[1])\n",
    "intro = intro.apply(lambda x: i.findall(x))"
   ]
  },
  {
   "cell_type": "code",
   "execution_count": 166,
   "metadata": {},
   "outputs": [
    {
     "data": {
      "text/plain": [
       "[['2018-05-18(美国)'],\n",
       " ['2018-05-16(戛纳电影节)', '2018-05-17(韩国)'],\n",
       " ['2018-02-15(柏林电影节)', '2018-03-23(美国)', '2018-04-20(中国大陆)'],\n",
       " ['2017-10-05(伦敦电影节)', '2018-04-06(英国)'],\n",
       " ['2017-08-11(印度)', '2018-06-08(中国大陆)'],\n",
       " ['2018-01-23(圣丹斯电影节)', '2018-05-04(美国)'],\n",
       " ['2018-04-23(加州首映)', '2018-04-27(美国)', '2018-05-11(中国大陆)'],\n",
       " ['2018-06-15(中国大陆)', '2018-06-21(香港)'],\n",
       " ['2018-03-09(西南偏南电影节)', '2018-04-06(美国)', '2018-05-18(中国大陆)'],\n",
       " ['2018-06-15(中国大陆)']]"
      ]
     },
     "execution_count": 166,
     "metadata": {},
     "output_type": "execute_result"
    }
   ],
   "source": [
    "list(intro)"
   ]
  },
  {
   "cell_type": "code",
   "execution_count": 106,
   "metadata": {},
   "outputs": [
    {
     "data": {
      "text/plain": [
       "['死侍2 / DP2',\n",
       " '燃烧 / 燃烧烈爱(台) / Burning',\n",
       " '犬之岛 / 小狗岛 / 汪星人之岛',\n",
       " '鬼故事 / 鬼谈怪说',\n",
       " '厕所英雄 / 厕所：一个爱情故事(台) / 厕所：一个爱的故事',\n",
       " '塔利 / 厌世妈咪日记(台) / 论尽爆煲妈咪(港)',\n",
       " '无限战争 / 复仇者联盟3：无限之战(港) / 复仇者联盟：无限之战(台)',\n",
       " '泄密者 / 泄密者们 / The Leakers',\n",
       " '寂静之地 / 无声绝境(港) / 噤界(台)',\n",
       " '猛虫过江 / The Way of the Bug / A Strong Insect Crossing the River']"
      ]
     },
     "execution_count": 106,
     "metadata": {},
     "output_type": "execute_result"
    }
   ],
   "source": [
    "name=[]\n",
    "for i in range(0,10):\n",
    "    a = locname[i] +  ' / ' + forname[i]\n",
    "    name.append(a)"
   ]
  },
  {
   "cell_type": "code",
   "execution_count": 168,
   "metadata": {
    "collapsed": true
   },
   "outputs": [],
   "source": [
    "namelist = {'Name':name,'Time':intro,\"Score\":score}"
   ]
  },
  {
   "cell_type": "code",
   "execution_count": 169,
   "metadata": {
    "collapsed": true
   },
   "outputs": [],
   "source": [
    "namelist_df = pd.DataFrame(namelist)"
   ]
  },
  {
   "cell_type": "code",
   "execution_count": 170,
   "metadata": {},
   "outputs": [
    {
     "data": {
      "text/html": [
       "<div>\n",
       "<style>\n",
       "    .dataframe thead tr:only-child th {\n",
       "        text-align: right;\n",
       "    }\n",
       "\n",
       "    .dataframe thead th {\n",
       "        text-align: left;\n",
       "    }\n",
       "\n",
       "    .dataframe tbody tr th {\n",
       "        vertical-align: top;\n",
       "    }\n",
       "</style>\n",
       "<table border=\"1\" class=\"dataframe\">\n",
       "  <thead>\n",
       "    <tr style=\"text-align: right;\">\n",
       "      <th></th>\n",
       "      <th>Name</th>\n",
       "      <th>Score</th>\n",
       "      <th>Time</th>\n",
       "    </tr>\n",
       "  </thead>\n",
       "  <tbody>\n",
       "    <tr>\n",
       "      <th>0</th>\n",
       "      <td>死侍2 / DP2</td>\n",
       "      <td>7.5</td>\n",
       "      <td>[2018-05-18(美国)]</td>\n",
       "    </tr>\n",
       "    <tr>\n",
       "      <th>1</th>\n",
       "      <td>燃烧 / 燃烧烈爱(台) / Burning</td>\n",
       "      <td>7.9</td>\n",
       "      <td>[2018-05-16(戛纳电影节), 2018-05-17(韩国)]</td>\n",
       "    </tr>\n",
       "    <tr>\n",
       "      <th>2</th>\n",
       "      <td>犬之岛 / 小狗岛 / 汪星人之岛</td>\n",
       "      <td>8.3</td>\n",
       "      <td>[2018-02-15(柏林电影节), 2018-03-23(美国), 2018-04-20...</td>\n",
       "    </tr>\n",
       "    <tr>\n",
       "      <th>3</th>\n",
       "      <td>鬼故事 / 鬼谈怪说</td>\n",
       "      <td>7.1</td>\n",
       "      <td>[2017-10-05(伦敦电影节), 2018-04-06(英国)]</td>\n",
       "    </tr>\n",
       "    <tr>\n",
       "      <th>4</th>\n",
       "      <td>厕所英雄 / 厕所：一个爱情故事(台) / 厕所：一个爱的故事</td>\n",
       "      <td>7.1</td>\n",
       "      <td>[2017-08-11(印度), 2018-06-08(中国大陆)]</td>\n",
       "    </tr>\n",
       "    <tr>\n",
       "      <th>5</th>\n",
       "      <td>塔利 / 厌世妈咪日记(台) / 论尽爆煲妈咪(港)</td>\n",
       "      <td>7.6</td>\n",
       "      <td>[2018-01-23(圣丹斯电影节), 2018-05-04(美国)]</td>\n",
       "    </tr>\n",
       "    <tr>\n",
       "      <th>6</th>\n",
       "      <td>无限战争 / 复仇者联盟3：无限之战(港) / 复仇者联盟：无限之战(台)</td>\n",
       "      <td>8.2</td>\n",
       "      <td>[2018-04-23(加州首映), 2018-04-27(美国), 2018-05-11(...</td>\n",
       "    </tr>\n",
       "    <tr>\n",
       "      <th>7</th>\n",
       "      <td>泄密者 / 泄密者们 / The Leakers</td>\n",
       "      <td>5.4</td>\n",
       "      <td>[2018-06-15(中国大陆), 2018-06-21(香港)]</td>\n",
       "    </tr>\n",
       "    <tr>\n",
       "      <th>8</th>\n",
       "      <td>寂静之地 / 无声绝境(港) / 噤界(台)</td>\n",
       "      <td>6.3</td>\n",
       "      <td>[2018-03-09(西南偏南电影节), 2018-04-06(美国), 2018-05-...</td>\n",
       "    </tr>\n",
       "    <tr>\n",
       "      <th>9</th>\n",
       "      <td>猛虫过江 / The Way of the Bug / A Strong Insect Cr...</td>\n",
       "      <td>3.7</td>\n",
       "      <td>[2018-06-15(中国大陆)]</td>\n",
       "    </tr>\n",
       "  </tbody>\n",
       "</table>\n",
       "</div>"
      ],
      "text/plain": [
       "                                                Name Score  \\\n",
       "0                                          死侍2 / DP2   7.5   \n",
       "1                             燃烧 / 燃烧烈爱(台) / Burning   7.9   \n",
       "2                                  犬之岛 / 小狗岛 / 汪星人之岛   8.3   \n",
       "3                                         鬼故事 / 鬼谈怪说   7.1   \n",
       "4                    厕所英雄 / 厕所：一个爱情故事(台) / 厕所：一个爱的故事   7.1   \n",
       "5                         塔利 / 厌世妈咪日记(台) / 论尽爆煲妈咪(港)   7.6   \n",
       "6              无限战争 / 复仇者联盟3：无限之战(港) / 复仇者联盟：无限之战(台)   8.2   \n",
       "7                           泄密者 / 泄密者们 / The Leakers   5.4   \n",
       "8                             寂静之地 / 无声绝境(港) / 噤界(台)   6.3   \n",
       "9  猛虫过江 / The Way of the Bug / A Strong Insect Cr...   3.7   \n",
       "\n",
       "                                                Time  \n",
       "0                                   [2018-05-18(美国)]  \n",
       "1                [2018-05-16(戛纳电影节), 2018-05-17(韩国)]  \n",
       "2  [2018-02-15(柏林电影节), 2018-03-23(美国), 2018-04-20...  \n",
       "3                [2017-10-05(伦敦电影节), 2018-04-06(英国)]  \n",
       "4                 [2017-08-11(印度), 2018-06-08(中国大陆)]  \n",
       "5               [2018-01-23(圣丹斯电影节), 2018-05-04(美国)]  \n",
       "6  [2018-04-23(加州首映), 2018-04-27(美国), 2018-05-11(...  \n",
       "7                 [2018-06-15(中国大陆), 2018-06-21(香港)]  \n",
       "8  [2018-03-09(西南偏南电影节), 2018-04-06(美国), 2018-05-...  \n",
       "9                                 [2018-06-15(中国大陆)]  "
      ]
     },
     "execution_count": 170,
     "metadata": {},
     "output_type": "execute_result"
    }
   ],
   "source": [
    "namelist_df"
   ]
  },
  {
   "cell_type": "code",
   "execution_count": null,
   "metadata": {
    "collapsed": true
   },
   "outputs": [],
   "source": []
  }
 ],
 "metadata": {
  "kernelspec": {
   "display_name": "Python 3",
   "language": "python",
   "name": "python3"
  },
  "language_info": {
   "codemirror_mode": {
    "name": "ipython",
    "version": 3
   },
   "file_extension": ".py",
   "mimetype": "text/x-python",
   "name": "python",
   "nbconvert_exporter": "python",
   "pygments_lexer": "ipython3",
   "version": "3.6.3"
  }
 },
 "nbformat": 4,
 "nbformat_minor": 2
}
