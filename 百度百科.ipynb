{
 "cells": [
  {
   "cell_type": "code",
   "execution_count": 2,
   "metadata": {},
   "outputs": [],
   "source": [
    "from bs4 import BeautifulSoup\n",
    "from urllib.request import urlopen\n",
    "import re\n",
    "import random"
   ]
  },
  {
   "cell_type": "code",
   "execution_count": 3,
   "metadata": {
    "collapsed": true
   },
   "outputs": [],
   "source": [
    "base = \"https://baike.baidu.com\"\n",
    "new = [\"/item/%E7%9F%A5%E4%B9%8E\"]"
   ]
  },
  {
   "cell_type": "code",
   "execution_count": 7,
   "metadata": {},
   "outputs": [
    {
     "name": "stdout",
     "output_type": "stream",
     "text": [
      "知乎    url: https://baike.baidu.com/item/%E7%9F%A5%E4%B9%8E\n"
     ]
    }
   ],
   "source": [
    "#输出标题+网址\n",
    "url = base + new[0]\n",
    "html = urlopen(url).read().decode('utf-8')\n",
    "soup = BeautifulSoup(html,features='lxml')\n",
    "print(soup.find('h1').get_text(),'   url:',base + new[0])"
   ]
  },
  {
   "cell_type": "code",
   "execution_count": 19,
   "metadata": {},
   "outputs": [
    {
     "data": {
      "text/plain": [
       "44"
      ]
     },
     "execution_count": 19,
     "metadata": {},
     "output_type": "execute_result"
    }
   ],
   "source": [
    "#随机爬取一个链接\n",
    "sub_url = soup.find_all('a',{\"target\":\"_blank\",\"href\": re.compile('/item/(%.{2})+$')})\n",
    "len(sub_url)"
   ]
  },
  {
   "cell_type": "code",
   "execution_count": 34,
   "metadata": {},
   "outputs": [
    {
     "name": "stdout",
     "output_type": "stream",
     "text": [
      "https://baike.baidu.com/item/%E7%9F%A5%E4%B9%8E\n"
     ]
    }
   ],
   "source": [
    "if len(sub_url) != 0:\n",
    "    new.append(random.sample(sub_url,1)[0]['href'])\n",
    "else:\n",
    "    new.pop()\n",
    "    \n",
    "print(base + new[0])"
   ]
  },
  {
   "cell_type": "code",
   "execution_count": 39,
   "metadata": {},
   "outputs": [
    {
     "name": "stdout",
     "output_type": "stream",
     "text": [
      "0 知乎   url: https://baike.baidu.com/item/%E7%9F%A5%E4%B9%8E\n",
      "1 破窗理论   url: https://baike.baidu.com/item/%E7%A0%B4%E7%AA%97%E6%95%88%E5%BA%94\n",
      "2 消费行为   url: https://baike.baidu.com/item/%E6%B6%88%E8%B4%B9%E8%A1%8C%E4%B8%BA\n",
      "3 消费经济学   url: https://baike.baidu.com/item/%E6%B6%88%E8%B4%B9%E7%BB%8F%E6%B5%8E%E5%AD%A6\n",
      "4 百度百科：多义词   url: https://baike.baidu.com/item/%E7%99%BE%E5%BA%A6%E7%99%BE%E7%A7%91%EF%BC%9A%E5%A4%9A%E4%B9%89%E8%AF%8D\n",
      "5 义项   url: https://baike.baidu.com/item/%E4%B9%89%E9%A1%B9\n",
      "6 江苏卫视   url: https://baike.baidu.com/item/%E6%B1%9F%E8%8B%8F%E5%8D%AB%E8%A7%86\n",
      "7 鲜厨当道   url: https://baike.baidu.com/item/%E9%B2%9C%E5%8E%A8%E5%BD%93%E9%81%93\n",
      "8 大左   url: https://baike.baidu.com/item/%E5%A4%A7%E5%B7%A6\n",
      "9 前夫求爱记   url: https://baike.baidu.com/item/%E5%89%8D%E5%A4%AB%E6%B1%82%E7%88%B1%E8%AE%B0\n"
     ]
    }
   ],
   "source": [
    "new = [\"/item/%E7%9F%A5%E4%B9%8E\"]\n",
    "\n",
    "for i in range(10):\n",
    "    url = base + new[-1]\n",
    "    html = urlopen(url).read().decode('utf-8')\n",
    "    soup = BeautifulSoup(html, features='lxml')\n",
    "    print(i, soup.find('h1').get_text(), '  url:', base + new[-1])\n",
    "    \n",
    "    sub_url = soup.find_all('a',{\"target\":\"_blank\",\"href\": re.compile('/item/(%.{2})+$')})\n",
    "\n",
    "    if len(sub_url) != 0:\n",
    "        new.append(random.sample(sub_url,1)[0]['href'])\n",
    "    else:\n",
    "        new.pop()\n",
    "    "
   ]
  },
  {
   "cell_type": "code",
   "execution_count": null,
   "metadata": {
    "collapsed": true
   },
   "outputs": [],
   "source": []
  },
  {
   "cell_type": "code",
   "execution_count": null,
   "metadata": {
    "collapsed": true
   },
   "outputs": [],
   "source": []
  },
  {
   "cell_type": "code",
   "execution_count": null,
   "metadata": {
    "collapsed": true
   },
   "outputs": [],
   "source": []
  }
 ],
 "metadata": {
  "kernelspec": {
   "display_name": "Python 3",
   "language": "python",
   "name": "python3"
  },
  "language_info": {
   "codemirror_mode": {
    "name": "ipython",
    "version": 3
   },
   "file_extension": ".py",
   "mimetype": "text/x-python",
   "name": "python",
   "nbconvert_exporter": "python",
   "pygments_lexer": "ipython3",
   "version": "3.6.3"
  }
 },
 "nbformat": 4,
 "nbformat_minor": 2
}
